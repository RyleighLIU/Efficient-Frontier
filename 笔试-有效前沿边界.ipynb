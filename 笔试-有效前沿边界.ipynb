{
 "cells": [
  {
   "cell_type": "markdown",
   "id": "acd26d75",
   "metadata": {},
   "source": [
    "## 现代投资组合理论\n",
    "\n",
    "现代投资组合理论（Modern Portfolio Theory，MPT）是由美国经济学家Harry Markowitz于1952年提出的一种投资组合优化理论。该理论旨在通过最大程度地提高预期收益，同时降低投资组合风险，以达到投资组合的最佳配置。\n",
    "\n",
    "MPT基于以下核心概念和公式：\n",
    "\n",
    "1. **资产收益率**（Asset Returns）：衡量资产投资收益的变化率。通常用年化收益率表示。\n",
    "\n",
    "2. **标准差**（Standard Deviation）：通过衡量资产收益的波动性来度量风险。标准差越高，资产波动性越大。\n",
    "\n",
    "3. **协方差**（Covariance）：衡量两个资产收益之间的线性关系。协方差正值表示正相关，负值表示负相关。\n",
    "\n",
    "4. **投资组合收益**（Portfolio Return）：由资产配置乘以各资产收益率得到的投资组合的预期收益。\n",
    "\n",
    "5. **投资组合方差**（Portfolio Variance）：衡量投资组合整体风险的度量，通过考虑资产收益率和权重之间的协方差计算得出。\n",
    "\n",
    "6. **有效边界**（Efficient Frontier）：表示在给定风险水平下，能够获得最大预期回报的投资组合集合。\n",
    "\n",
    "7. **夏普比率**（Sharpe Ratio）：衡量投资组合的风险调整回报率，是预期超额回报与投资组合波动性的比率。\n",
    "\n",
    "MPT的目标是通过构建有效边界，找到投资者在风险承受能力下的最佳投资组合。有效边界上的投资组合被认为是最优的，因为它们可以获得给定风险下的最大预期回报。  "
   ]
  },
  {
   "cell_type": "markdown",
   "id": "b3a0f8b7",
   "metadata": {},
   "source": [
    "有效前沿边界公式：\n",
    "\n",
    "$ \n",
    "R_p(\\omega) = \\min_{\\alpha} \\left[ \\alpha R_p(\\omega_p) + (1 - \\alpha) R_p(\\omega_q) \\right]\n",
    " $\n",
    "\n",
    "其中，\n",
    "$R_p(\\omega)$ 表示投资组合$ \\omega$ 的预期收益率，\n",
    "$\\alpha$ 是投资组合 $\\omega_p$ 的权重（介于0和1之间），\n",
    "$R_p(\\omega_p)$ 和 $R_p(\\omega_q)$ 分别表示投资组合 $\\omega_p$ 和 $\\omega_q$ 的预期收益率。"
   ]
  },
  {
   "cell_type": "code",
   "execution_count": 1,
   "id": "d8d17a53",
   "metadata": {},
   "outputs": [],
   "source": [
    "import pandas as pd\n",
    "import numpy as np\n",
    "from scipy.optimize import minimize\n",
    "import matplotlib.pyplot as plt"
   ]
  },
  {
   "cell_type": "code",
   "execution_count": 2,
   "id": "ca603a98",
   "metadata": {},
   "outputs": [
    {
     "data": {
      "text/html": [
       "<div>\n",
       "<style scoped>\n",
       "    .dataframe tbody tr th:only-of-type {\n",
       "        vertical-align: middle;\n",
       "    }\n",
       "\n",
       "    .dataframe tbody tr th {\n",
       "        vertical-align: top;\n",
       "    }\n",
       "\n",
       "    .dataframe thead th {\n",
       "        text-align: right;\n",
       "    }\n",
       "</style>\n",
       "<table border=\"1\" class=\"dataframe\">\n",
       "  <thead>\n",
       "    <tr style=\"text-align: right;\">\n",
       "      <th></th>\n",
       "      <th>时间</th>\n",
       "      <th>上证50</th>\n",
       "      <th>沪深300</th>\n",
       "      <th>深证100</th>\n",
       "      <th>创业板指</th>\n",
       "    </tr>\n",
       "  </thead>\n",
       "  <tbody>\n",
       "    <tr>\n",
       "      <th>0</th>\n",
       "      <td>2023-01-03,二</td>\n",
       "      <td>NaN</td>\n",
       "      <td>NaN</td>\n",
       "      <td>NaN</td>\n",
       "      <td>NaN</td>\n",
       "    </tr>\n",
       "    <tr>\n",
       "      <th>1</th>\n",
       "      <td>2023-01-04,三</td>\n",
       "      <td>0.0022</td>\n",
       "      <td>0.0013</td>\n",
       "      <td>-0.0014</td>\n",
       "      <td>-0.0090</td>\n",
       "    </tr>\n",
       "    <tr>\n",
       "      <th>2</th>\n",
       "      <td>2023-01-05,四</td>\n",
       "      <td>0.0101</td>\n",
       "      <td>0.0194</td>\n",
       "      <td>0.0283</td>\n",
       "      <td>0.0276</td>\n",
       "    </tr>\n",
       "    <tr>\n",
       "      <th>3</th>\n",
       "      <td>2023-01-06,五</td>\n",
       "      <td>0.0008</td>\n",
       "      <td>0.0031</td>\n",
       "      <td>0.0029</td>\n",
       "      <td>0.0095</td>\n",
       "    </tr>\n",
       "    <tr>\n",
       "      <th>4</th>\n",
       "      <td>2023-01-09,一</td>\n",
       "      <td>0.0058</td>\n",
       "      <td>0.0081</td>\n",
       "      <td>0.0077</td>\n",
       "      <td>0.0075</td>\n",
       "    </tr>\n",
       "  </tbody>\n",
       "</table>\n",
       "</div>"
      ],
      "text/plain": [
       "             时间    上证50   沪深300   深证100    创业板指\n",
       "0  2023-01-03,二     NaN     NaN     NaN     NaN\n",
       "1  2023-01-04,三  0.0022  0.0013 -0.0014 -0.0090\n",
       "2  2023-01-05,四  0.0101  0.0194  0.0283  0.0276\n",
       "3  2023-01-06,五  0.0008  0.0031  0.0029  0.0095\n",
       "4  2023-01-09,一  0.0058  0.0081  0.0077  0.0075"
      ]
     },
     "execution_count": 2,
     "metadata": {},
     "output_type": "execute_result"
    }
   ],
   "source": [
    "df1 = pd.read_excel('dataset_rate_of_return.xlsx')\n",
    "df1.head() #看一下数据集（从同花顺提前下载好的）"
   ]
  },
  {
   "cell_type": "code",
   "execution_count": 3,
   "id": "9990104d",
   "metadata": {},
   "outputs": [],
   "source": [
    "df1 = df1.dropna() # 清理一下异常值\n",
    "df1 = df1.set_index(df1['时间'])"
   ]
  },
  {
   "cell_type": "code",
   "execution_count": 4,
   "id": "b31b64aa",
   "metadata": {},
   "outputs": [],
   "source": [
    "df1 = df1.drop(\"时间\", axis=1)"
   ]
  },
  {
   "cell_type": "code",
   "execution_count": 5,
   "id": "047e0790",
   "metadata": {},
   "outputs": [
    {
     "data": {
      "text/plain": [
       "0.0317"
      ]
     },
     "execution_count": 5,
     "metadata": {},
     "output_type": "execute_result"
    }
   ],
   "source": [
    "df1['深证100'].max()"
   ]
  },
  {
   "cell_type": "code",
   "execution_count": 6,
   "id": "4eb41ef4",
   "metadata": {},
   "outputs": [
    {
     "data": {
      "text/html": [
       "<div>\n",
       "<style scoped>\n",
       "    .dataframe tbody tr th:only-of-type {\n",
       "        vertical-align: middle;\n",
       "    }\n",
       "\n",
       "    .dataframe tbody tr th {\n",
       "        vertical-align: top;\n",
       "    }\n",
       "\n",
       "    .dataframe thead th {\n",
       "        text-align: right;\n",
       "    }\n",
       "</style>\n",
       "<table border=\"1\" class=\"dataframe\">\n",
       "  <thead>\n",
       "    <tr style=\"text-align: right;\">\n",
       "      <th></th>\n",
       "      <th>上证50</th>\n",
       "      <th>沪深300</th>\n",
       "      <th>深证100</th>\n",
       "      <th>创业板指</th>\n",
       "    </tr>\n",
       "  </thead>\n",
       "  <tbody>\n",
       "    <tr>\n",
       "      <th>上证50</th>\n",
       "      <td>0.000054</td>\n",
       "      <td>0.000059</td>\n",
       "      <td>0.000060</td>\n",
       "      <td>0.000058</td>\n",
       "    </tr>\n",
       "    <tr>\n",
       "      <th>沪深300</th>\n",
       "      <td>0.000059</td>\n",
       "      <td>0.000073</td>\n",
       "      <td>0.000080</td>\n",
       "      <td>0.000077</td>\n",
       "    </tr>\n",
       "    <tr>\n",
       "      <th>深证100</th>\n",
       "      <td>0.000060</td>\n",
       "      <td>0.000080</td>\n",
       "      <td>0.000098</td>\n",
       "      <td>0.000102</td>\n",
       "    </tr>\n",
       "    <tr>\n",
       "      <th>创业板指</th>\n",
       "      <td>0.000058</td>\n",
       "      <td>0.000077</td>\n",
       "      <td>0.000102</td>\n",
       "      <td>0.000123</td>\n",
       "    </tr>\n",
       "  </tbody>\n",
       "</table>\n",
       "</div>"
      ],
      "text/plain": [
       "           上证50     沪深300     深证100      创业板指\n",
       "上证50   0.000054  0.000059  0.000060  0.000058\n",
       "沪深300  0.000059  0.000073  0.000080  0.000077\n",
       "深证100  0.000060  0.000080  0.000098  0.000102\n",
       "创业板指   0.000058  0.000077  0.000102  0.000123"
      ]
     },
     "execution_count": 6,
     "metadata": {},
     "output_type": "execute_result"
    }
   ],
   "source": [
    "# 算均值和协方差\n",
    "mean_r=np.array(df1.mean())\n",
    "df2=df1.cov()\n",
    "df2.head()"
   ]
  },
  {
   "cell_type": "code",
   "execution_count": 7,
   "id": "d39e0372",
   "metadata": {},
   "outputs": [],
   "source": [
    "def std(x0): \n",
    "    ww=np.array(x0)\n",
    "    std=np.dot(np.dot(ww,np.array(df2)),ww.T)\n",
    "    return std\n",
    " \n",
    "x0=[0.1,0.2,0.3,0.4] #任意给定一个初始投资比例\n",
    "l_r=[]\n",
    "l_std_1=[]\n",
    "l_std_2=[]\n",
    " \n",
    "for r in np.linspace(-0.02,0.035,100):\n",
    "    cons1=({'type':'eq','fun':lambda x: np.sum(x)-1},{'type':'eq','fun':lambda x: np.dot(x,mean_r.T)-r})       #等式类型的约束条件，约束条件为投资比例之和为1，以及组合收益率为r\n",
    "    cons2=({'type':'eq','fun':lambda x: np.sum(x)-1},{'type':'eq','fun':lambda x: np.dot(x,mean_r.T)-r},{'type':'ineq','fun':lambda x:x[0]},{'type':'ineq','fun':lambda x:x[1]},{'type':'ineq','fun':lambda x:x[2]},{'type':'ineq','fun':lambda x:x[3]})  #包含不等式约束，增加了投资比例都非负这样的约束条件\n",
    " \n",
    "    res1=minimize(std,x0,method='SLSQP',constraints=cons1) #minimize函数中的第一个参数std表示要最小化的目标函数，x0为ndarray,表示目标函数中的待求解的未知变量，以std的第一个参数的形式传入，需要一个初始值\n",
    "    res2=minimize(std,x0,method='SLSQP',constraints=cons2)\n",
    "    l_r.append(r)\n",
    "    l_std_1.append(res1.fun)\n",
    "    l_std_2.append(res2.fun)\n",
    "    \n",
    "df=pd.DataFrame([l_r,l_std_1,l_std_2]).T\n",
    "df.columns=['return','sigma_uncons','sigma_cons']"
   ]
  },
  {
   "cell_type": "code",
   "execution_count": 8,
   "id": "c7148dff",
   "metadata": {},
   "outputs": [
    {
     "data": {
      "text/html": [
       "<div>\n",
       "<style scoped>\n",
       "    .dataframe tbody tr th:only-of-type {\n",
       "        vertical-align: middle;\n",
       "    }\n",
       "\n",
       "    .dataframe tbody tr th {\n",
       "        vertical-align: top;\n",
       "    }\n",
       "\n",
       "    .dataframe thead th {\n",
       "        text-align: right;\n",
       "    }\n",
       "</style>\n",
       "<table border=\"1\" class=\"dataframe\">\n",
       "  <thead>\n",
       "    <tr style=\"text-align: right;\">\n",
       "      <th></th>\n",
       "      <th>return</th>\n",
       "      <th>sigma_uncons</th>\n",
       "      <th>sigma_cons</th>\n",
       "    </tr>\n",
       "  </thead>\n",
       "  <tbody>\n",
       "    <tr>\n",
       "      <th>0</th>\n",
       "      <td>-0.020000</td>\n",
       "      <td>0.039889</td>\n",
       "      <td>0.000123</td>\n",
       "    </tr>\n",
       "    <tr>\n",
       "      <th>1</th>\n",
       "      <td>-0.019444</td>\n",
       "      <td>0.037700</td>\n",
       "      <td>0.000123</td>\n",
       "    </tr>\n",
       "    <tr>\n",
       "      <th>2</th>\n",
       "      <td>-0.018889</td>\n",
       "      <td>0.035572</td>\n",
       "      <td>0.000123</td>\n",
       "    </tr>\n",
       "    <tr>\n",
       "      <th>3</th>\n",
       "      <td>-0.018333</td>\n",
       "      <td>0.033507</td>\n",
       "      <td>0.000123</td>\n",
       "    </tr>\n",
       "    <tr>\n",
       "      <th>4</th>\n",
       "      <td>-0.017778</td>\n",
       "      <td>0.031503</td>\n",
       "      <td>0.000123</td>\n",
       "    </tr>\n",
       "    <tr>\n",
       "      <th>...</th>\n",
       "      <td>...</td>\n",
       "      <td>...</td>\n",
       "      <td>...</td>\n",
       "    </tr>\n",
       "    <tr>\n",
       "      <th>95</th>\n",
       "      <td>0.032778</td>\n",
       "      <td>0.108213</td>\n",
       "      <td>0.000054</td>\n",
       "    </tr>\n",
       "    <tr>\n",
       "      <th>96</th>\n",
       "      <td>0.033333</td>\n",
       "      <td>0.111903</td>\n",
       "      <td>0.000054</td>\n",
       "    </tr>\n",
       "    <tr>\n",
       "      <th>97</th>\n",
       "      <td>0.033889</td>\n",
       "      <td>0.115654</td>\n",
       "      <td>0.000054</td>\n",
       "    </tr>\n",
       "    <tr>\n",
       "      <th>98</th>\n",
       "      <td>0.034444</td>\n",
       "      <td>0.119468</td>\n",
       "      <td>0.000054</td>\n",
       "    </tr>\n",
       "    <tr>\n",
       "      <th>99</th>\n",
       "      <td>0.035000</td>\n",
       "      <td>0.123343</td>\n",
       "      <td>0.000054</td>\n",
       "    </tr>\n",
       "  </tbody>\n",
       "</table>\n",
       "<p>100 rows × 3 columns</p>\n",
       "</div>"
      ],
      "text/plain": [
       "      return  sigma_uncons  sigma_cons\n",
       "0  -0.020000      0.039889    0.000123\n",
       "1  -0.019444      0.037700    0.000123\n",
       "2  -0.018889      0.035572    0.000123\n",
       "3  -0.018333      0.033507    0.000123\n",
       "4  -0.017778      0.031503    0.000123\n",
       "..       ...           ...         ...\n",
       "95  0.032778      0.108213    0.000054\n",
       "96  0.033333      0.111903    0.000054\n",
       "97  0.033889      0.115654    0.000054\n",
       "98  0.034444      0.119468    0.000054\n",
       "99  0.035000      0.123343    0.000054\n",
       "\n",
       "[100 rows x 3 columns]"
      ]
     },
     "execution_count": 8,
     "metadata": {},
     "output_type": "execute_result"
    }
   ],
   "source": [
    "df"
   ]
  },
  {
   "cell_type": "code",
   "execution_count": 9,
   "id": "e0980848",
   "metadata": {},
   "outputs": [
    {
     "name": "stderr",
     "output_type": "stream",
     "text": [
      "No artists with labels found to put in legend.  Note that artists whose label start with an underscore are ignored when legend() is called with no argument.\n"
     ]
    },
    {
     "data": {
      "image/png": "[encoded data removed]",
      "text/plain": [
       "<Figure size 432x288 with 1 Axes>"
      ]
     },
     "metadata": {
      "needs_background": "light"
     },
     "output_type": "display_data"
    }
   ],
   "source": [
    "plt.plot(df['sigma_uncons'], df['return'])\n",
    "plt.xlabel('Standard Deviation')\n",
    "plt.ylabel('Return')\n",
    "plt.title('Portfolio Optimization')\n",
    "plt.legend()\n",
    "plt.show()"
   ]
  },
  {
   "cell_type": "code",
   "execution_count": null,
   "id": "c8fd2545",
   "metadata": {},
   "outputs": [],
   "source": []
  }
 ],
 "metadata": {
  "kernelspec": {
   "display_name": "Python 3 (ipykernel)",
   "language": "python",
   "name": "python3"
  },
  "language_info": {
   "codemirror_mode": {
    "name": "ipython",
    "version": 3
   },
   "file_extension": ".py",
   "mimetype": "text/x-python",
   "name": "python",
   "nbconvert_exporter": "python",
   "pygments_lexer": "ipython3",
   "version": "3.9.12"
  }
 },
 "nbformat": 4,
 "nbformat_minor": 5
}
